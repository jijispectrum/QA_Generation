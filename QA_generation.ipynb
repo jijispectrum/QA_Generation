{
 "cells": [
  {
   "cell_type": "code",
   "execution_count": null,
   "id": "b631b288-ed6e-4395-8ee4-68a0cb9a3154",
   "metadata": {},
   "outputs": [],
   "source": [
    "from transformers import AutoTokenizer, AutoModelForSeq2SeqLM\n",
    "\n",
    "# Load the FLAN-T5 model and tokenizer using AutoModelForSeq2SeqLM\n",
    "model_name = \"google/flan-t5-large\"\n",
    "tokenizer = AutoTokenizer.from_pretrained(model_name)\n",
    "model = AutoModelForSeq2SeqLM.from_pretrained(model_name)\n",
    "\n",
    "# Function to generate an answer based on a job description and a question\n",
    "def generate_job_answer(question, job_description):\n",
    "    prompt = f\"Job description: {job_description}  Question: {question}  Answer:\"\n",
    "    inputs = tokenizer(prompt, return_tensors=\"pt\", truncation=True)\n",
    "    outputs = model.generate(**inputs)\n",
    "    return tokenizer.decode(outputs[0], skip_special_tokens=True)\n",
    "\n",
    "# Function to generate job interview questions from a job description\n",
    "def generate_job_question(job_description):\n",
    "    prompt = f\"Generate a job interview question based on the job description: {job_description}\"\n",
    "    inputs = tokenizer(prompt, return_tensors=\"pt\")\n",
    "    outputs = model.generate(**inputs)\n",
    "    return tokenizer.decode(outputs[0], skip_special_tokens=True)\n",
    "\n",
    "# Collect user input for the job description\n",
    "job_description_input = input(\"Enter the job description: \")\n",
    "\n",
    "# Generate a job interview question based on the job description\n",
    "generated_job_question = generate_job_question(job_description_input)\n",
    "print(\"\\nGenerated Job Interview Question:\", generated_job_question)\n",
    "\n",
    "# Generate the answer based on the generated job interview question and the job description\n",
    "generated_answer = generate_job_answer(generated_job_question, job_description_input)\n",
    "print(\"\\nGenerated Answer:\", generated_answer)\n"
   ]
  },
  {
   "cell_type": "code",
   "execution_count": null,
   "id": "5df845ae-f948-472a-89dd-fd9eaf39e169",
   "metadata": {},
   "outputs": [],
   "source": []
  }
 ],
 "metadata": {
  "kernelspec": {
   "display_name": "Python 3 (ipykernel)",
   "language": "python",
   "name": "python3"
  },
  "language_info": {
   "codemirror_mode": {
    "name": "ipython",
    "version": 3
   },
   "file_extension": ".py",
   "mimetype": "text/x-python",
   "name": "python",
   "nbconvert_exporter": "python",
   "pygments_lexer": "ipython3",
   "version": "3.12.3"
  }
 },
 "nbformat": 4,
 "nbformat_minor": 5
}
